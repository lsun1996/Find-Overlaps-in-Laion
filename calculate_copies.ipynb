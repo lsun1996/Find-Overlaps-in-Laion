{
 "cells": [
  {
   "cell_type": "code",
   "execution_count": 11,
   "metadata": {},
   "outputs": [
    {
     "name": "stdout",
     "output_type": "stream",
     "text": [
      "2x in sun397:  2196\n",
      "['/teamspace/studios/this_studio/filtered_results_all/sun397-test-multiple_copy.json']\n",
      "3x in sun397:  1521\n",
      "4x in sun397:  923\n",
      "5x in sun397:  345\n"
     ]
    }
   ],
   "source": [
    "import json\n",
    "import os\n",
    "import glob\n",
    "\n",
    "dataset_name = \"sun397\"\n",
    "\n",
    "copy_path = f\"/teamspace/studios/this_studio/filtered_results_all\"\n",
    "one_files = glob.glob(os.path.join(copy_path, f\"{dataset_name}*-one_copy.json\"))\n",
    "num_copies_2 = 0\n",
    "for p in one_files:\n",
    "    with open(os.path.join(copy_path, p), \"r\") as f:\n",
    "        data = json.load(f)\n",
    "        num_copies_2 += len(data)\n",
    "print(f\"2x in {dataset_name}: \", num_copies_2)\n",
    "\n",
    "mul_files = glob.glob(os.path.join(copy_path, f\"{dataset_name}*-multiple_copy.json\"))\n",
    "print(mul_files)\n",
    "num_copies_3 = 0\n",
    "num_copies_4 = 0\n",
    "num_copies_5 = 0\n",
    "total = 0\n",
    "\n",
    "for q in mul_files:\n",
    "    with open(os.path.join(copy_path, q), \"r\") as f:\n",
    "        data = json.load(f)\n",
    "        total += len(data)\n",
    "        for key, vals in data.items():\n",
    "            if len(vals) >= 2:\n",
    "                num_copies_3 += 1\n",
    "            if len(vals) >= 3:\n",
    "                num_copies_4 += 1\n",
    "            if len(vals) >= 5:\n",
    "                num_copies_5 += 1\n",
    "\n",
    "if num_copies_3 != total:\n",
    "    print(\"error!\")\n",
    "print(f\"3x in {dataset_name}: \", num_copies_3)\n",
    "print(f\"4x in {dataset_name}: \", num_copies_4)\n",
    "print(f\"5x in {dataset_name}: \", num_copies_5)\n"
   ]
  },
  {
   "cell_type": "code",
   "execution_count": null,
   "metadata": {},
   "outputs": [],
   "source": [
    "2x in cifar100:  319\n",
    "3x in cifar100:  158\n",
    "4x in cifar100:  86\n",
    "5x in cifar100:  32\n",
    "\n",
    "2x in food101:  250\n",
    "3x in food101:  11\n",
    "4x in food101:  5\n",
    "5x in food101:  3\n",
    "\n",
    "2x in cars:  750\n",
    "3x in cars:  505\n",
    "4x in cars:  246\n",
    "5x in cars:  70\n",
    "\n",
    "2x in country211:  276\n",
    "3x in country211:  71\n",
    "4x in country211:  24\n",
    "5x in country211:  15\n",
    "\n",
    "2x in sun397:  2196\n",
    "3x in sun397:  1521\n",
    "4x in sun397:  923\n",
    "5x in sun397:  345"
   ]
  }
 ],
 "metadata": {
  "language_info": {
   "name": "python"
  }
 },
 "nbformat": 4,
 "nbformat_minor": 2
}
