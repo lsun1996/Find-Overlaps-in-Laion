{
 "cells": [
  {
   "cell_type": "code",
   "execution_count": null,
   "metadata": {},
   "outputs": [],
   "source": [
    "! pip install ftfy regex tqdm\n",
    "! pip install git+https://github.com/openai/CLIP.git"
   ]
  },
  {
   "cell_type": "code",
   "execution_count": 1,
   "metadata": {},
   "outputs": [],
   "source": [
    "import torch\n",
    "from PIL import Image\n",
    "import clip\n",
    "from torchvision.transforms import Compose, Resize, CenterCrop, ToTensor, Normalize\n",
    "from HF_dataset import HFDataset\n",
    "import json\n",
    "import os\n",
    "from tqdm import tqdm\n",
    "import logging\n",
    "from concurrent.futures import ProcessPoolExecutor\n",
    "import matplotlib.pyplot as plt\n",
    "import seaborn as sns\n",
    "\n",
    "logging.basicConfig(level=logging.INFO, format=\"%(asctime)s - %(levelname)s - %(message)s\")\n",
    "logger = logging.getLogger(__name__)\n"
   ]
  },
  {
   "cell_type": "code",
   "execution_count": 2,
   "metadata": {},
   "outputs": [
    {
     "name": "stderr",
     "output_type": "stream",
     "text": [
      "  0%|                                               | 0.00/338M [00:00<?, ?iB/s]"
     ]
    },
    {
     "name": "stderr",
     "output_type": "stream",
     "text": [
      "100%|███████████████████████████████████████| 338M/338M [00:05<00:00, 59.6MiB/s]\n"
     ]
    }
   ],
   "source": [
    "device = \"cuda\" if torch.cuda.is_available() else \"cpu\"\n",
    "model, preprocess = clip.load(\"ViT-B/32\", device)\n",
    "model.to(device)\n",
    "model.eval()\n",
    "\n",
    "def encode_text(text):\n",
    "    with torch.no_grad():\n",
    "        text_tokens = clip.tokenize([text]).to(device)\n",
    "        text_features = model.encode_text(text_tokens)\n",
    "        text_features /= text_features.norm(dim=-1, keepdim=True)\n",
    "    return text_features\n",
    "\n",
    "def encode_image(image):\n",
    "    with torch.no_grad():\n",
    "        image_features = model.encode_image(image)\n",
    "        image_features /= image_features.norm(dim=-1, keepdim=True)\n",
    "    return image_features\n",
    "\n",
    "def cosine_similarity(image_features, text_features):\n",
    "    return (image_features @ text_features.T).item()\n",
    "\n",
    "def cosine_distance(image_features, text_features):\n",
    "    return 1 - cosine_similarity(image_features, text_features)\n"
   ]
  },
  {
   "cell_type": "code",
   "execution_count": 4,
   "metadata": {},
   "outputs": [],
   "source": [
    "def process_samples(samples, dataset, output_file):\n",
    "    distances = []\n",
    "    for key in tqdm(samples, desc=f\"Processing {output_file}\"):\n",
    "        image, text = dataset.get_by_id(key)\n",
    "        image = preprocess(image).unsqueeze(0).to(device)\n",
    "        image_features = encode_image(image)\n",
    "        text_features = encode_text(text)\n",
    "        distances.append(cosine_distance(image_features, text_features))\n",
    "\n",
    "    with open(output_file, \"w\") as f:\n",
    "        json.dump(distances, f)\n",
    "\n",
    "def process_dataset(dataset_name, lookup_file):\n",
    "    dataset_dir = f\"data/optimized_dataset/{dataset_name}\"\n",
    "    if not os.path.exists(dataset_dir):\n",
    "        # try another path\n",
    "        dataset_dir_alt = f\"/teamspace/studios/find-overlaps-in-laion-400m/data/optimized_dataset/{dataset_name}\"\n",
    "        if not os.path.exists(dataset_dir_alt):\n",
    "            logger.warning(f\"Dataset path not found: {dataset_dir_alt}\")\n",
    "            return\n",
    "        else:\n",
    "            dataset_dir = dataset_dir_alt\n",
    "\n",
    "    try:\n",
    "        with open(lookup_file, \"r\") as f:\n",
    "            lookup = json.load(f)\n",
    "    except (FileNotFoundError, json.JSONDecodeError):\n",
    "        logger.warning(f\"Invalid lookup file: {lookup_file}\")\n",
    "        return\n",
    "\n",
    "    dataset = HFDataset(dataset_dir, \"index.json\", lookup)\n",
    "\n",
    "    # Process one_copy\n",
    "    one_copy_file = f\"filtered_results_all/{dataset_name}-one_copy.json\"\n",
    "    output_one_copy = f\"filtered_results_all/distances-clip/one_copy/{dataset_name}-one_copy_distances.json\"\n",
    "\n",
    "    if not os.path.exists(output_one_copy):\n",
    "        if os.path.exists(one_copy_file):\n",
    "            with open(one_copy_file, \"r\") as f:\n",
    "                one_copy = json.load(f)\n",
    "            process_samples(one_copy.keys(), dataset, output_one_copy)\n",
    "        else:\n",
    "            logger.warning(f\"One copy file missing: {one_copy_file}\")\n",
    "    else:\n",
    "        logger.info(f\"Skipping processed one copy: {output_one_copy}\")\n",
    "\n",
    "    # Process multiple_copy\n",
    "    multiple_copy_file = f\"filtered_results_all/{dataset_name}-multiple_copy.json\"\n",
    "    output_multiple_copy = f\"filtered_results_all/distances-clip/multiple_copy/{dataset_name}-multiple_copy_distances.json\"\n",
    "\n",
    "    if not os.path.exists(output_multiple_copy):\n",
    "        if os.path.exists(multiple_copy_file):\n",
    "            with open(multiple_copy_file, \"r\") as f:\n",
    "                multiple_copy = json.load(f)\n",
    "            process_samples(multiple_copy.keys(), dataset, output_multiple_copy)\n",
    "        else:\n",
    "            logger.warning(f\"Multiple copy file missing: {multiple_copy_file}\")\n",
    "    else:\n",
    "        logger.info(f\"Skipping processed multiple copy: {output_multiple_copy}\")"
   ]
  },
  {
   "cell_type": "code",
   "execution_count": 5,
   "metadata": {},
   "outputs": [
    {
     "name": "stderr",
     "output_type": "stream",
     "text": [
      "2025-03-05 14:55:44,033 - WARNING - Dataset path not found: /teamspace/studios/find-overlaps-in-laion-400m/data/optimized_dataset/imagenet-a-train\n",
      "Processing filtered_results_all/distances-clip/one_copy/imagenet-a-test-one_copy_distances.json: 100%|██████████| 24/24 [00:06<00:00,  3.68it/s]\n",
      "Processing filtered_results_all/distances-clip/multiple_copy/imagenet-a-test-multiple_copy_distances.json: 100%|██████████| 8/8 [00:01<00:00,  4.22it/s]\n",
      "2025-03-05 14:55:52,663 - WARNING - Dataset path not found: /teamspace/studios/find-overlaps-in-laion-400m/data/optimized_dataset/imagenet-o-train\n",
      "Processing filtered_results_all/distances-clip/one_copy/imagenet-o-test-one_copy_distances.json: 100%|██████████| 44/44 [00:11<00:00,  3.95it/s]\n",
      "Processing filtered_results_all/distances-clip/multiple_copy/imagenet-o-test-multiple_copy_distances.json: 100%|██████████| 19/19 [00:04<00:00,  4.13it/s]\n",
      "2025-03-05 14:56:08,625 - WARNING - Dataset path not found: /teamspace/studios/find-overlaps-in-laion-400m/data/optimized_dataset/imagenet-r-train\n",
      "Processing filtered_results_all/distances-clip/one_copy/imagenet-r-test-one_copy_distances.json: 100%|██████████| 898/898 [03:46<00:00,  3.96it/s]\n",
      "Processing filtered_results_all/distances-clip/multiple_copy/imagenet-r-test-multiple_copy_distances.json: 100%|██████████| 542/542 [02:49<00:00,  3.19it/s]\n",
      "Processing filtered_results_all/distances-clip/one_copy/cifar100-train-one_copy_distances.json: 100%|██████████| 297/297 [01:37<00:00,  3.06it/s]\n",
      "Processing filtered_results_all/distances-clip/multiple_copy/cifar100-train-multiple_copy_distances.json: 100%|██████████| 148/148 [00:48<00:00,  3.03it/s]\n",
      "Processing filtered_results_all/distances-clip/one_copy/cifar100-test-one_copy_distances.json: 100%|██████████| 22/22 [00:04<00:00,  5.09it/s]\n",
      "Processing filtered_results_all/distances-clip/multiple_copy/cifar100-test-multiple_copy_distances.json: 100%|██████████| 10/10 [00:01<00:00,  5.45it/s]\n",
      "Processing filtered_results_all/distances-clip/one_copy/caltech101-train-one_copy_distances.json: 100%|██████████| 20/20 [00:04<00:00,  4.51it/s]\n",
      "Processing filtered_results_all/distances-clip/multiple_copy/caltech101-train-multiple_copy_distances.json: 100%|██████████| 9/9 [00:02<00:00,  4.23it/s]\n",
      "Processing filtered_results_all/distances-clip/one_copy/caltech101-test-one_copy_distances.json: 100%|██████████| 23/23 [00:05<00:00,  4.52it/s]\n",
      "Processing filtered_results_all/distances-clip/multiple_copy/caltech101-test-multiple_copy_distances.json: 100%|██████████| 16/16 [00:03<00:00,  4.51it/s]\n",
      "Processing filtered_results_all/distances-clip/one_copy/cars-train-one_copy_distances.json: 100%|██████████| 378/378 [01:04<00:00,  5.85it/s]\n",
      "Processing filtered_results_all/distances-clip/multiple_copy/cars-train-multiple_copy_distances.json: 100%|██████████| 232/232 [00:42<00:00,  5.44it/s]\n",
      "Processing filtered_results_all/distances-clip/one_copy/cars-test-one_copy_distances.json: 100%|██████████| 372/372 [01:10<00:00,  5.30it/s]\n",
      "Processing filtered_results_all/distances-clip/multiple_copy/cars-test-multiple_copy_distances.json: 100%|██████████| 273/273 [00:47<00:00,  5.72it/s]\n",
      "Processing filtered_results_all/distances-clip/one_copy/aircraft-train-one_copy_distances.json: 100%|██████████| 6/6 [00:01<00:00,  3.06it/s]\n",
      "Processing filtered_results_all/distances-clip/multiple_copy/aircraft-train-multiple_copy_distances.json: 100%|██████████| 2/2 [00:00<00:00,  2.82it/s]\n",
      "Processing filtered_results_all/distances-clip/one_copy/aircraft-test-one_copy_distances.json: 100%|██████████| 8/8 [00:02<00:00,  3.45it/s]\n",
      "Processing filtered_results_all/distances-clip/multiple_copy/aircraft-test-multiple_copy_distances.json: 0it [00:00, ?it/s]\n",
      "Processing filtered_results_all/distances-clip/one_copy/country211-train-one_copy_distances.json: 100%|██████████| 172/172 [00:34<00:00,  4.92it/s]\n",
      "Processing filtered_results_all/distances-clip/multiple_copy/country211-train-multiple_copy_distances.json: 100%|██████████| 33/33 [00:06<00:00,  5.41it/s]\n",
      "Processing filtered_results_all/distances-clip/one_copy/country211-test-one_copy_distances.json: 100%|██████████| 104/104 [00:21<00:00,  4.88it/s]\n",
      "Processing filtered_results_all/distances-clip/multiple_copy/country211-test-multiple_copy_distances.json: 100%|██████████| 38/38 [00:07<00:00,  5.08it/s]\n",
      "Processing filtered_results_all/distances-clip/one_copy/fer2013-train-one_copy_distances.json: 100%|██████████| 19/19 [00:03<00:00,  4.84it/s]\n",
      "Processing filtered_results_all/distances-clip/multiple_copy/fer2013-train-multiple_copy_distances.json: 100%|██████████| 7/7 [00:01<00:00,  4.17it/s]\n",
      "Processing filtered_results_all/distances-clip/one_copy/fer2013-test-one_copy_distances.json: 100%|██████████| 6/6 [00:00<00:00,  7.04it/s]\n",
      "Processing filtered_results_all/distances-clip/multiple_copy/fer2013-test-multiple_copy_distances.json: 100%|██████████| 3/3 [00:00<00:00,  4.61it/s]\n",
      "Processing filtered_results_all/distances-clip/one_copy/food101-train-one_copy_distances.json: 100%|██████████| 184/184 [00:43<00:00,  4.22it/s]\n",
      "Processing filtered_results_all/distances-clip/multiple_copy/food101-train-multiple_copy_distances.json: 100%|██████████| 7/7 [00:01<00:00,  4.26it/s]\n",
      "Processing filtered_results_all/distances-clip/one_copy/food101-test-one_copy_distances.json: 100%|██████████| 66/66 [00:15<00:00,  4.35it/s]\n",
      "Processing filtered_results_all/distances-clip/multiple_copy/food101-test-multiple_copy_distances.json: 100%|██████████| 4/4 [00:00<00:00,  4.65it/s]\n",
      "2025-03-05 15:11:44,954 - WARNING - Dataset path not found: /teamspace/studios/find-overlaps-in-laion-400m/data/optimized_dataset/imagenetv2-train\n",
      "Processing filtered_results_all/distances-clip/one_copy/imagenetv2-test-one_copy_distances.json: 100%|██████████| 117/117 [00:29<00:00,  3.99it/s]\n",
      "Processing filtered_results_all/distances-clip/multiple_copy/imagenetv2-test-multiple_copy_distances.json: 100%|██████████| 64/64 [00:14<00:00,  4.28it/s]\n",
      "Processing filtered_results_all/distances-clip/one_copy/pets-train-one_copy_distances.json: 100%|██████████| 25/25 [00:06<00:00,  4.10it/s]\n",
      "Processing filtered_results_all/distances-clip/multiple_copy/pets-train-multiple_copy_distances.json: 100%|██████████| 10/10 [00:02<00:00,  4.08it/s]\n",
      "Processing filtered_results_all/distances-clip/one_copy/pets-test-one_copy_distances.json: 100%|██████████| 37/37 [00:08<00:00,  4.28it/s]\n",
      "Processing filtered_results_all/distances-clip/multiple_copy/pets-test-multiple_copy_distances.json: 100%|██████████| 13/13 [00:03<00:00,  3.80it/s]\n",
      "2025-03-05 15:12:50,306 - WARNING - Dataset path not found: /teamspace/studios/find-overlaps-in-laion-400m/data/optimized_dataset/sun397-train\n",
      "Processing filtered_results_all/distances-clip/one_copy/sun397-test-one_copy_distances.json: 100%|██████████| 2196/2196 [10:26<00:00,  3.51it/s]\n",
      "Processing filtered_results_all/distances-clip/multiple_copy/sun397-test-multiple_copy_distances.json: 100%|██████████| 1521/1521 [08:15<00:00,  3.07it/s]\n"
     ]
    }
   ],
   "source": [
    "    dataset_names = [\"imagenet-a\", \"imagenet-o\",\"imagenet-r\", \"cifar100\", \"caltech101\", \"cars\", \"aircraft\", \"country211\", \"fer2013\", \"food101\", \"imagenetv2\", \"pets\", \"sun397\"]\n",
    "    dataset_list = [(dataset_name, f\"data/classes_{dataset_name}.json\") for dataset_name in dataset_names]\n",
    "    lookup_files = [f\"classes_{name}.json\" for name in dataset_list]\n",
    "    splits = [\"train\", \"test\"]\n",
    "\n",
    "    for dataset_name, lookup_file in dataset_list:\n",
    "        for split in splits:\n",
    "            process_dataset(f\"{dataset_name}-{split}\", lookup_file)"
   ]
  },
  {
   "cell_type": "code",
   "execution_count": 28,
   "metadata": {},
   "outputs": [
    {
     "name": "stderr",
     "output_type": "stream",
     "text": [
      "100%|██████████| 13/13 [00:02<00:00,  4.91it/s]\n"
     ]
    }
   ],
   "source": [
    "import matplotlib.pyplot as plt\n",
    "import seaborn as sns\n",
    "import json\n",
    "import os\n",
    "import glob\n",
    "\n",
    "# Example distances\n",
    "def distance_histogram_by_dataset(dataset_name, output_dir):\n",
    "\n",
    "    one_files = glob.glob(f\"filtered_results_all/distances/one_copy/{dataset_name}*.json\")\n",
    "    distances_one = []\n",
    "    for file in one_files:\n",
    "        with open(file, \"r\") as f:\n",
    "            data = json.load(f)\n",
    "            if isinstance(data, list):\n",
    "                distances_one.extend(data)\n",
    "            else:\n",
    "                print(f\"Warning! {file} does not contain a list.\")\n",
    "\n",
    "    multiple_files = glob.glob(f\"filtered_results_all/distances/multiple_copy/{dataset_name}*.json\")\n",
    "    distances_multiple = []\n",
    "    for file in multiple_files:\n",
    "        with open(file, \"r\") as f:\n",
    "            data = json.load(f)\n",
    "            if isinstance(data, list):\n",
    "                distances_multiple.extend(data)\n",
    "            else:\n",
    "                print(f\"Warning! {file} does not contain a list.\")\n",
    "\n",
    "    bins = np.linspace(min(min(distances_one), min(distances_multiple)), max(max(distances_one), max(distances_multiple)), 50)\n",
    "\n",
    "    plt.hist(distances_one, bins=bins, alpha=0.5, label=\"has one copy in laion400m\", color='blue', edgecolor='black', density=True)\n",
    "    plt.hist(distances_multiple, bins=bins, alpha=0.5, label=\"has multiple copy in laion400m\", color='red', edgecolor='black', density=True)\n",
    "\n",
    "    plt.xlabel(\"Cosine Distance\")\n",
    "    plt.ylabel(\"Frequency\")\n",
    "    plt.title(f\"Distribution of Image-Text Cosine Distances in {dataset_name}\")\n",
    "    plt.legend()\n",
    "\n",
    "    save_path = os.path.join(output_dir, f'{dataset_name}.png')\n",
    "    plt.savefig(save_path)\n",
    "    plt.close()\n",
    "\n",
    "save_dir = \"figures/histograms\"\n",
    "os.makedirs(save_dir, exist_ok=True)\n",
    "dataset_names = [\"imagenet-a\", \"imagenet-o\",\"imagenet-r\", \"cifar100\", \"caltech101\", \"cars\", \"aircraft\", \"country211\", \"fer2013\", \"food101\", \"imagenetv2\", \"pets\", \"sun397\"]\n",
    "for name in tqdm(dataset_names):\n",
    "    distance_histogram_by_dataset(name, save_dir)"
   ]
  },
  {
   "cell_type": "code",
   "execution_count": 8,
   "metadata": {},
   "outputs": [
    {
     "name": "stdout",
     "output_type": "stream",
     "text": [
      "Total items in one_copy 5018\n",
      "Total items in multiple_copy 2959\n"
     ]
    },
    {
     "data": {
      "image/png": "[encoded data removed]",
      "text/plain": [
       "<Figure size 640x480 with 1 Axes>"
      ]
     },
     "metadata": {},
     "output_type": "display_data"
    }
   ],
   "source": [
    "import matplotlib.pyplot as plt\n",
    "import seaborn as sns\n",
    "import json\n",
    "import os\n",
    "import numpy as np\n",
    "import glob\n",
    "\n",
    "def get_copy_distance(copy_type):\n",
    "    copy_path = f\"/teamspace/studios/this_studio/filtered_results_all/distances-clip/{copy_type}\"\n",
    "    distance_files = glob.glob(os.path.join(copy_path, \"*.json\"))\n",
    "    distances = []\n",
    "    for file in distance_files:\n",
    "        with open(file, \"r\") as f:\n",
    "            data = json.load(f)\n",
    "            if isinstance(data, list):\n",
    "                distances.extend(data)\n",
    "            else:\n",
    "                print(f\"Warning! {file} does not contain a list.\")\n",
    "    print(f\"Total items in {copy_type}\", len(distances))\n",
    "    return distances\n",
    "\n",
    "distance_one_copy = get_copy_distance(\"one_copy\")\n",
    "distance_multiple_copy = get_copy_distance(\"multiple_copy\")\n",
    "\n",
    "bins = np.linspace(min(min(distance_one_copy), min(distance_multiple_copy)), max(max(distance_one_copy), max(distance_multiple_copy)), 30)\n",
    "\n",
    "plt.hist(distance_one_copy, bins=bins, alpha=0.5, label=\"has one copy in laion\", color='blue', edgecolor='black', density=True)\n",
    "plt.hist(distance_multiple_copy, bins=bins, alpha=0.5, label=\"has multiple copy in laion\", color='red', edgecolor='black', density=True)\n",
    "\n",
    "# # Add KDE curves for both datasets\n",
    "# sns.kdeplot(distance_one_copy, color='blue', label=\"KDE for one copy\", linewidth=2)\n",
    "# sns.kdeplot(distance_multiple_copy, color='red', label=\"KDE for multiple copies\", linewidth=2)\n",
    "\n",
    "# Plot histogram\n",
    "# sns.histplot(cosine_distances, bins=50, kde=True)\n",
    "plt.xlabel(\"Cosine Distance\")\n",
    "plt.ylabel(\"Frequency\")\n",
    "plt.title(\"Distribution of Image-Text Cosine Distances\")\n",
    "plt.legend()\n",
    "plt.show()\n"
   ]
  },
  {
   "cell_type": "code",
   "execution_count": null,
   "metadata": {},
   "outputs": [],
   "source": []
  }
 ],
 "metadata": {
  "language_info": {
   "name": "python"
  }
 },
 "nbformat": 4,
 "nbformat_minor": 2
}
